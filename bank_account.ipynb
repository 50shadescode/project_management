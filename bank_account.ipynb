{
  "nbformat": 4,
  "nbformat_minor": 0,
  "metadata": {
    "colab": {
      "provenance": [],
      "authorship_tag": "ABX9TyO40BUN9COhHKBj9uKqs5QN",
      "include_colab_link": true
    },
    "kernelspec": {
      "name": "python3",
      "display_name": "Python 3"
    },
    "language_info": {
      "name": "python"
    }
  },
  "cells": [
    {
      "cell_type": "markdown",
      "metadata": {
        "id": "view-in-github",
        "colab_type": "text"
      },
      "source": [
        "<a href=\"https://colab.research.google.com/github/50shadescode/project_management/blob/main/bank_account.ipynb\" target=\"_parent\"><img src=\"https://colab.research.google.com/assets/colab-badge.svg\" alt=\"Open In Colab\"/></a>"
      ]
    },
    {
      "cell_type": "code",
      "execution_count": 1,
      "metadata": {
        "colab": {
          "base_uri": "https://localhost:8080/"
        },
        "id": "JL6hP1HgwbVO",
        "outputId": "4fcd7b0f-3799-4bfb-9ed1-952bab5df199"
      },
      "outputs": [
        {
          "output_type": "stream",
          "name": "stdout",
          "text": [
            "Current balance is $1000.00.\n",
            "Deposited $500.00. New balance is $1500.00.\n",
            "Current balance is $1500.00.\n",
            "Withdrew $200.00. New balance is $1300.00.\n",
            "Current balance is $1300.00.\n",
            "Insufficient funds. Current balance is $1300.00.\n",
            "Current balance is $1300.00.\n",
            "Deposited $1000.00. New balance is $3000.00.\n",
            "Current balance is $3000.00.\n",
            "Withdrew $1500.00. New balance is $1500.00.\n",
            "Current balance is $1500.00.\n"
          ]
        }
      ],
      "source": [
        "# bank_account.py\n",
        "\n",
        "class Account:\n",
        "    def __init__(self, account_number: str, account_balance: float, account_holder: str):\n",
        "        self.account_number = account_number\n",
        "        self.account_balance = account_balance\n",
        "        self.account_holder = account_holder\n",
        "\n",
        "    def deposit(self, amount: float):\n",
        "        \"\"\"Deposit money into the account\"\"\"\n",
        "        self.account_balance += amount\n",
        "        print(f\"Deposited ${amount:.2f}. New balance is ${self.account_balance:.2f}.\")\n",
        "\n",
        "    def withdraw(self, amount: float):\n",
        "        \"\"\"Withdraw money from the account if sufficient balance exists\"\"\"\n",
        "        if amount <= self.account_balance:\n",
        "            self.account_balance -= amount\n",
        "            print(f\"Withdrew ${amount:.2f}. New balance is ${self.account_balance:.2f}.\")\n",
        "        else:\n",
        "            print(f\"Insufficient funds. Current balance is ${self.account_balance:.2f}.\")\n",
        "\n",
        "    def check_balance(self):\n",
        "        \"\"\"Check and return the current account balance\"\"\"\n",
        "        return f\"Current balance is ${self.account_balance:.2f}.\"\n",
        "\n",
        "\n",
        "# Creating an instance of the Account class\n",
        "my_account = Account(\"12345678\", 1000.00, \"Martin Odhiambo\")\n",
        "\n",
        "# Testing the methods\n",
        "print(my_account.check_balance())  # Check initial balance\n",
        "\n",
        "my_account.deposit(500.00)         # Deposit money\n",
        "print(my_account.check_balance())  # Check balance after deposit\n",
        "\n",
        "my_account.withdraw(200.00)        # Withdraw money\n",
        "print(my_account.check_balance())  # Check balance after withdrawal\n",
        "\n",
        "my_account.withdraw(2000.00)       # Attempt to withdraw more than available balance\n",
        "print(my_account.check_balance())  # Check balance after failed withdrawal\n",
        "\n",
        "# Creating another instance of the Account class for testing\n",
        "another_account = Account(\"87654321\", 2000.00, \"Delisha\")\n",
        "\n",
        "# Test deposit and withdrawal on the second account\n",
        "another_account.deposit(1000.00)\n",
        "print(another_account.check_balance())\n",
        "another_account.withdraw(1500.00)\n",
        "print(another_account.check_balance())\n"
      ]
    }
  ]
}