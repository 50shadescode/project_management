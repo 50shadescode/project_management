{
  "nbformat": 4,
  "nbformat_minor": 0,
  "metadata": {
    "colab": {
      "provenance": [],
      "authorship_tag": "ABX9TyMRM3aUxujUkrBQhieN4VL+",
      "include_colab_link": true
    },
    "kernelspec": {
      "name": "python3",
      "display_name": "Python 3"
    },
    "language_info": {
      "name": "python"
    }
  },
  "cells": [
    {
      "cell_type": "markdown",
      "metadata": {
        "id": "view-in-github",
        "colab_type": "text"
      },
      "source": [
        "<a href=\"https://colab.research.google.com/github/50shadescode/project_management/blob/main/File%20handling.ipynb\" target=\"_parent\"><img src=\"https://colab.research.google.com/assets/colab-badge.svg\" alt=\"Open In Colab\"/></a>"
      ]
    },
    {
      "cell_type": "code",
      "source": [
        "# Step 1: Import the necessary library\n",
        "import numpy as np\n",
        "\n",
        "# Step 2: Open the CSV file (use raw string to avoid issues with backslashes)\n",
        "file_path = r\"C:\\Users\\cex\\Desktop\\Data sets\\Loan_prediction_dataset.csv\"  # Raw string to handle backslashes correctly\n",
        "file = open(file_path, 'r')\n",
        "\n",
        "# Step 3: Read the data into a NumPy array using np.genfromtxt()\n",
        "# Assuming the loan amounts are in one of the columns (e.g., second column)\n",
        "loan_data = np.genfromtxt(file, delimiter=',', skip_header=1, usecols=1)  # Adjust 'usecols' depending on your file structure\n",
        "\n",
        "# Close the file after reading\n",
        "file.close()\n",
        "\n",
        "# Step 4: Perform statistical analysis on the loan amounts\n",
        "mean_loan = np.mean(loan_data)\n",
        "median_loan = np.median(loan_data)\n",
        "std_dev_loan = np.std(loan_data)\n",
        "\n",
        "# Step 5: Print the results\n",
        "print(f\"Mean of loan amounts: {mean_loan}\")\n",
        "print(f\"Median of loan amounts: {median_loan}\")\n",
        "print(f\"Standard deviation of loan amounts: {std_dev_loan}\")\n"
      ],
      "metadata": {
        "id": "WcaSuSg2rRyY"
      },
      "execution_count": null,
      "outputs": []
    }
  ]
}