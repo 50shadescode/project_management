{
  "nbformat": 4,
  "nbformat_minor": 0,
  "metadata": {
    "colab": {
      "provenance": [],
      "authorship_tag": "ABX9TyPY80dqzoU/eJP9YJ5w5Cwz",
      "include_colab_link": true
    },
    "kernelspec": {
      "name": "python3",
      "display_name": "Python 3"
    },
    "language_info": {
      "name": "python"
    }
  },
  "cells": [
    {
      "cell_type": "markdown",
      "metadata": {
        "id": "view-in-github",
        "colab_type": "text"
      },
      "source": [
        "<a href=\"https://colab.research.google.com/github/50shadescode/project_management/blob/main/numpy%20array%20called%20%22grades%22.ipynb\" target=\"_parent\"><img src=\"https://colab.research.google.com/assets/colab-badge.svg\" alt=\"Open In Colab\"/></a>"
      ]
    },
    {
      "cell_type": "code",
      "execution_count": 1,
      "metadata": {
        "colab": {
          "base_uri": "https://localhost:8080/"
        },
        "id": "ACmW4XI3T12c",
        "outputId": "2dc229bc-aeff-44f4-aa12-f0b17a46d142"
      },
      "outputs": [
        {
          "output_type": "stream",
          "name": "stdout",
          "text": [
            "Grades: [85 90 88 92 95 80 75 98 89 83]\n",
            "Mean grade: 87.5\n",
            "Median grade: 88.5\n",
            "Standard deviation: 6.591661399070799\n",
            "Maximum grade: 98\n",
            "Minimum grade: 75\n",
            "Sorted grades: [75 80 83 85 88 89 90 92 95 98]\n",
            "Index of highest grade: 7\n",
            "Number of students scoring above 90: 3\n",
            "Percentage of students scoring above 90: 30.0\n",
            "Percentage of students scoring below 75: 0.0\n",
            "High performers (grades above 90): [92 95 98]\n",
            "Passing grades (grades above 75): [85 90 88 92 95 80 98 89 83]\n"
          ]
        }
      ],
      "source": [
        "# Import the numpy library\n",
        "import numpy as np\n",
        "\n",
        "# Step 1: Create the \"grades\" array\n",
        "grades = np.array([85, 90, 88, 92, 95, 80, 75, 98, 89, 83])\n",
        "\n",
        "# Step 2: Calculate the mean, median, and standard deviation\n",
        "mean_grade = np.mean(grades)\n",
        "median_grade = np.median(grades)\n",
        "std_deviation = np.std(grades)\n",
        "\n",
        "# Step 3: Find the maximum and minimum grades\n",
        "max_grade = np.max(grades)\n",
        "min_grade = np.min(grades)\n",
        "\n",
        "# Step 4: Sort the grades in ascending order\n",
        "sorted_grades = np.sort(grades)\n",
        "\n",
        "# Step 5: Find the index of the highest grade\n",
        "highest_grade_index = np.argmax(grades)\n",
        "\n",
        "# Step 6: Count the number of students who scored above 90\n",
        "students_above_90 = np.sum(grades > 90)\n",
        "\n",
        "# Step 7: Calculate the percentage of students who scored above 90\n",
        "percentage_above_90 = np.mean(grades > 90) * 100\n",
        "\n",
        "# Step 8: Calculate the percentage of students who scored below 75\n",
        "percentage_below_75 = np.mean(grades < 75) * 100\n",
        "\n",
        "# Step 9: Extract all the grades above 90 into a new array called \"high_performers\"\n",
        "high_performers = grades[grades > 90]\n",
        "\n",
        "# Step 10: Create a new array called \"passing_grades\" with all grades above 75\n",
        "passing_grades = grades[grades > 75]\n",
        "\n",
        "# Step 11: Print the results\n",
        "print(\"Grades:\", grades)\n",
        "print(\"Mean grade:\", mean_grade)\n",
        "print(\"Median grade:\", median_grade)\n",
        "print(\"Standard deviation:\", std_deviation)\n",
        "print(\"Maximum grade:\", max_grade)\n",
        "print(\"Minimum grade:\", min_grade)\n",
        "print(\"Sorted grades:\", sorted_grades)\n",
        "print(\"Index of highest grade:\", highest_grade_index)\n",
        "print(\"Number of students scoring above 90:\", students_above_90)\n",
        "print(\"Percentage of students scoring above 90:\", percentage_above_90)\n",
        "print(\"Percentage of students scoring below 75:\", percentage_below_75)\n",
        "print(\"High performers (grades above 90):\", high_performers)\n",
        "print(\"Passing grades (grades above 75):\", passing_grades)\n",
        "\n"
      ]
    }
  ]
}